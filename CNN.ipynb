{
 "cells": [
  {
   "cell_type": "code",
   "execution_count": 1,
   "outputs": [],
   "source": [
    "import os\n",
    "import cv2\n",
    "import glob\n",
    "import keras\n",
    "import numpy as np\n",
    "import tensorflow as tf\n",
    "from tensorflow import keras\n",
    "import matplotlib.pyplot as plt\n",
    "from keras.utils import to_categorical\n",
    "from tensorflow.keras.models import Sequential\n",
    "from keras.preprocessing.image import ImageDataGenerator\n",
    "from sklearn.metrics import confusion_matrix, classification_report\n",
    "from keras.layers import Dense, Conv2D, MaxPool2D, Flatten, Dropout"
   ],
   "metadata": {
    "collapsed": false
   },
   "id": "initial_id"
  },
  {
   "cell_type": "code",
   "execution_count": 20,
   "outputs": [],
   "source": [
    "img_generator = ImageDataGenerator(rotation_range=30,\n",
    "                                   width_shift_range=0.1,\n",
    "                                   height_shift_range=0.1,\n",
    "                                   rescale=1/255,\n",
    "                                   shear_range=0.2,\n",
    "                                   zoom_range=0.2,\n",
    "                                   horizontal_flip=True,\n",
    "                                   fill_mode=\"nearest\")"
   ],
   "metadata": {
    "collapsed": false,
    "ExecuteTime": {
     "end_time": "2023-10-21T14:50:21.098641Z",
     "start_time": "2023-10-21T14:50:21.094369Z"
    }
   },
   "id": "1fc16adde8330494"
  },
  {
   "cell_type": "code",
   "execution_count": 22,
   "outputs": [],
   "source": [
    "image_shape = (160,160,3)"
   ],
   "metadata": {
    "collapsed": false,
    "ExecuteTime": {
     "end_time": "2023-10-21T14:50:39.580368Z",
     "start_time": "2023-10-21T14:50:39.577248Z"
    }
   },
   "id": "f70cf91d1ec100ab"
  },
  {
   "cell_type": "code",
   "execution_count": 23,
   "outputs": [
    {
     "name": "stdout",
     "output_type": "stream",
     "text": [
      "Found 3506 images belonging to 14 classes.\n"
     ]
    }
   ],
   "source": [
    "train_set = img_generator.flow_from_directory('dataset',\n",
    "                                              target_size=image_shape[:2],\n",
    "                                              batch_size=16,\n",
    "                                              class_mode=\"binary\")"
   ],
   "metadata": {
    "collapsed": false,
    "ExecuteTime": {
     "end_time": "2023-10-21T14:50:40.195287Z",
     "start_time": "2023-10-21T14:50:40.073473Z"
    }
   },
   "id": "b079866a04cc429c"
  },
  {
   "cell_type": "code",
   "execution_count": 24,
   "outputs": [
    {
     "data": {
      "text/plain": "{'aarin ': 0,\n 'adithya': 1,\n 'aditya': 2,\n 'avanish': 3,\n 'dev': 4,\n 'dhruv_arora': 5,\n 'parth_waman': 6,\n 'shimpali': 7,\n 'shourya': 8,\n 'siddharth': 9,\n 'tanuj': 10,\n 'tarush': 11,\n 'utkarsh': 12,\n 'vaibhav': 13}"
     },
     "execution_count": 24,
     "metadata": {},
     "output_type": "execute_result"
    }
   ],
   "source": [
    "train_set.class_indices"
   ],
   "metadata": {
    "collapsed": false,
    "ExecuteTime": {
     "end_time": "2023-10-21T14:50:41.766070Z",
     "start_time": "2023-10-21T14:50:41.755484Z"
    }
   },
   "id": "f8608d911f72154d"
  },
  {
   "cell_type": "code",
   "execution_count": 26,
   "outputs": [
    {
     "name": "stdout",
     "output_type": "stream",
     "text": [
      "Found 3506 images belonging to 14 classes.\n"
     ]
    }
   ],
   "source": [
    "test_set = img_generator.flow_from_directory(\"dataset\",\n",
    "                                             target_size=image_shape[:2],\n",
    "                                             batch_size=16,\n",
    "                                             class_mode=\"binary\")"
   ],
   "metadata": {
    "collapsed": false,
    "ExecuteTime": {
     "end_time": "2023-10-21T14:51:37.600371Z",
     "start_time": "2023-10-21T14:51:37.470258Z"
    }
   },
   "id": "cee393e35170be86"
  },
  {
   "cell_type": "code",
   "execution_count": 33,
   "outputs": [],
   "source": [
    "CNN = Sequential()\n",
    "CNN.add(Conv2D(filters=32, kernel_size=(3,3), input_shape=(150,150,3),  activation='relu'))\n",
    "CNN.add(MaxPool2D(pool_size=2))\n",
    "CNN.add(Conv2D(filters=64, kernel_size=(3,3), activation='relu'))\n",
    "CNN.add(MaxPool2D(pool_size=2))\n",
    "CNN.add(Conv2D(filters=64, kernel_size=(3,3), activation='relu'))\n",
    "CNN.add(MaxPool2D(pool_size=2))\n",
    "CNN.add(Flatten())\n",
    "CNN.add(Dense(units=200, activation=\"relu\"))\n",
    "CNN.add(Dropout(0.5))\n",
    "CNN.add(Dense(units=100, activation=\"relu\"))\n",
    "CNN.add(Dense(units=14, activation=\"sigmoid\"))"
   ],
   "metadata": {
    "collapsed": false,
    "ExecuteTime": {
     "end_time": "2023-10-21T14:52:41.071140Z",
     "start_time": "2023-10-21T14:52:40.814592Z"
    }
   },
   "id": "f5b8c5ad70a6a8fe"
  },
  {
   "cell_type": "code",
   "execution_count": 34,
   "outputs": [],
   "source": [
    "CNN.compile(optimizer = 'adam', loss = 'binary_crossentropy', metrics = ['accuracy'])"
   ],
   "metadata": {
    "collapsed": false,
    "ExecuteTime": {
     "end_time": "2023-10-21T14:52:41.575050Z",
     "start_time": "2023-10-21T14:52:41.567326Z"
    }
   },
   "id": "bb28f726b1c9c128"
  },
  {
   "cell_type": "code",
   "execution_count": 35,
   "outputs": [
    {
     "name": "stdout",
     "output_type": "stream",
     "text": [
      "Model: \"sequential_6\"\n",
      "_________________________________________________________________\n",
      " Layer (type)                Output Shape              Param #   \n",
      "=================================================================\n",
      " conv2d_9 (Conv2D)           (None, 148, 148, 32)      896       \n",
      "                                                                 \n",
      " max_pooling2d_9 (MaxPoolin  (None, 74, 74, 32)        0         \n",
      " g2D)                                                            \n",
      "                                                                 \n",
      " conv2d_10 (Conv2D)          (None, 72, 72, 64)        18496     \n",
      "                                                                 \n",
      " max_pooling2d_10 (MaxPooli  (None, 36, 36, 64)        0         \n",
      " ng2D)                                                           \n",
      "                                                                 \n",
      " conv2d_11 (Conv2D)          (None, 34, 34, 64)        36928     \n",
      "                                                                 \n",
      " max_pooling2d_11 (MaxPooli  (None, 17, 17, 64)        0         \n",
      " ng2D)                                                           \n",
      "                                                                 \n",
      " flatten_3 (Flatten)         (None, 18496)             0         \n",
      "                                                                 \n",
      " dense_14 (Dense)            (None, 200)               3699400   \n",
      "                                                                 \n",
      " dropout_4 (Dropout)         (None, 200)               0         \n",
      "                                                                 \n",
      " dense_15 (Dense)            (None, 100)               20100     \n",
      "                                                                 \n",
      " dense_16 (Dense)            (None, 14)                1414      \n",
      "                                                                 \n",
      "=================================================================\n",
      "Total params: 3777234 (14.41 MB)\n",
      "Trainable params: 3777234 (14.41 MB)\n",
      "Non-trainable params: 0 (0.00 Byte)\n",
      "_________________________________________________________________\n"
     ]
    }
   ],
   "source": [
    "CNN.summary()"
   ],
   "metadata": {
    "collapsed": false,
    "ExecuteTime": {
     "end_time": "2023-10-21T14:52:42.169209Z",
     "start_time": "2023-10-21T14:52:42.153552Z"
    }
   },
   "id": "816b390c482f023e"
  },
  {
   "cell_type": "code",
   "execution_count": 36,
   "outputs": [
    {
     "name": "stdout",
     "output_type": "stream",
     "text": [
      "Epoch 1/30\n"
     ]
    },
    {
     "ename": "ValueError",
     "evalue": "in user code:\n\n    File \"/Users/skull/PycharmProjects/Face Recognition System/venv/lib/python3.9/site-packages/keras/src/engine/training.py\", line 1338, in train_function  *\n        return step_function(self, iterator)\n    File \"/Users/skull/PycharmProjects/Face Recognition System/venv/lib/python3.9/site-packages/keras/src/engine/training.py\", line 1322, in step_function  **\n        outputs = model.distribute_strategy.run(run_step, args=(data,))\n    File \"/Users/skull/PycharmProjects/Face Recognition System/venv/lib/python3.9/site-packages/keras/src/engine/training.py\", line 1303, in run_step  **\n        outputs = model.train_step(data)\n    File \"/Users/skull/PycharmProjects/Face Recognition System/venv/lib/python3.9/site-packages/keras/src/engine/training.py\", line 1081, in train_step\n        loss = self.compute_loss(x, y, y_pred, sample_weight)\n    File \"/Users/skull/PycharmProjects/Face Recognition System/venv/lib/python3.9/site-packages/keras/src/engine/training.py\", line 1139, in compute_loss\n        return self.compiled_loss(\n    File \"/Users/skull/PycharmProjects/Face Recognition System/venv/lib/python3.9/site-packages/keras/src/engine/compile_utils.py\", line 265, in __call__\n        loss_value = loss_obj(y_t, y_p, sample_weight=sw)\n    File \"/Users/skull/PycharmProjects/Face Recognition System/venv/lib/python3.9/site-packages/keras/src/losses.py\", line 142, in __call__\n        losses = call_fn(y_true, y_pred)\n    File \"/Users/skull/PycharmProjects/Face Recognition System/venv/lib/python3.9/site-packages/keras/src/losses.py\", line 268, in call  **\n        return ag_fn(y_true, y_pred, **self._fn_kwargs)\n    File \"/Users/skull/PycharmProjects/Face Recognition System/venv/lib/python3.9/site-packages/keras/src/losses.py\", line 2432, in binary_crossentropy\n        backend.binary_crossentropy(y_true, y_pred, from_logits=from_logits),\n    File \"/Users/skull/PycharmProjects/Face Recognition System/venv/lib/python3.9/site-packages/keras/src/backend.py\", line 5809, in binary_crossentropy\n        return tf.nn.sigmoid_cross_entropy_with_logits(\n\n    ValueError: `logits` and `labels` must have the same shape, received ((None, 14) vs (None, 1)).\n",
     "output_type": "error",
     "traceback": [
      "\u001B[0;31m---------------------------------------------------------------------------\u001B[0m",
      "\u001B[0;31mValueError\u001B[0m                                Traceback (most recent call last)",
      "Cell \u001B[0;32mIn[36], line 1\u001B[0m\n\u001B[0;32m----> 1\u001B[0m \u001B[43mCNN\u001B[49m\u001B[38;5;241;43m.\u001B[39;49m\u001B[43mfit\u001B[49m\u001B[43m(\u001B[49m\u001B[43mtrain_set\u001B[49m\u001B[43m,\u001B[49m\u001B[43m \u001B[49m\u001B[43mepochs\u001B[49m\u001B[43m \u001B[49m\u001B[38;5;241;43m=\u001B[39;49m\u001B[43m \u001B[49m\u001B[38;5;241;43m30\u001B[39;49m\u001B[43m)\u001B[49m\n",
      "File \u001B[0;32m~/PycharmProjects/Face Recognition System/venv/lib/python3.9/site-packages/keras/src/utils/traceback_utils.py:70\u001B[0m, in \u001B[0;36mfilter_traceback.<locals>.error_handler\u001B[0;34m(*args, **kwargs)\u001B[0m\n\u001B[1;32m     67\u001B[0m     filtered_tb \u001B[38;5;241m=\u001B[39m _process_traceback_frames(e\u001B[38;5;241m.\u001B[39m__traceback__)\n\u001B[1;32m     68\u001B[0m     \u001B[38;5;66;03m# To get the full stack trace, call:\u001B[39;00m\n\u001B[1;32m     69\u001B[0m     \u001B[38;5;66;03m# `tf.debugging.disable_traceback_filtering()`\u001B[39;00m\n\u001B[0;32m---> 70\u001B[0m     \u001B[38;5;28;01mraise\u001B[39;00m e\u001B[38;5;241m.\u001B[39mwith_traceback(filtered_tb) \u001B[38;5;28;01mfrom\u001B[39;00m \u001B[38;5;28;01mNone\u001B[39;00m\n\u001B[1;32m     71\u001B[0m \u001B[38;5;28;01mfinally\u001B[39;00m:\n\u001B[1;32m     72\u001B[0m     \u001B[38;5;28;01mdel\u001B[39;00m filtered_tb\n",
      "File \u001B[0;32m/var/folders/vw/4rypl92n2wb3py3wlk9sjt_c0000gn/T/__autograph_generated_fileyhzm_dyi.py:15\u001B[0m, in \u001B[0;36mouter_factory.<locals>.inner_factory.<locals>.tf__train_function\u001B[0;34m(iterator)\u001B[0m\n\u001B[1;32m     13\u001B[0m \u001B[38;5;28;01mtry\u001B[39;00m:\n\u001B[1;32m     14\u001B[0m     do_return \u001B[38;5;241m=\u001B[39m \u001B[38;5;28;01mTrue\u001B[39;00m\n\u001B[0;32m---> 15\u001B[0m     retval_ \u001B[38;5;241m=\u001B[39m ag__\u001B[38;5;241m.\u001B[39mconverted_call(ag__\u001B[38;5;241m.\u001B[39mld(step_function), (ag__\u001B[38;5;241m.\u001B[39mld(\u001B[38;5;28mself\u001B[39m), ag__\u001B[38;5;241m.\u001B[39mld(iterator)), \u001B[38;5;28;01mNone\u001B[39;00m, fscope)\n\u001B[1;32m     16\u001B[0m \u001B[38;5;28;01mexcept\u001B[39;00m:\n\u001B[1;32m     17\u001B[0m     do_return \u001B[38;5;241m=\u001B[39m \u001B[38;5;28;01mFalse\u001B[39;00m\n",
      "\u001B[0;31mValueError\u001B[0m: in user code:\n\n    File \"/Users/skull/PycharmProjects/Face Recognition System/venv/lib/python3.9/site-packages/keras/src/engine/training.py\", line 1338, in train_function  *\n        return step_function(self, iterator)\n    File \"/Users/skull/PycharmProjects/Face Recognition System/venv/lib/python3.9/site-packages/keras/src/engine/training.py\", line 1322, in step_function  **\n        outputs = model.distribute_strategy.run(run_step, args=(data,))\n    File \"/Users/skull/PycharmProjects/Face Recognition System/venv/lib/python3.9/site-packages/keras/src/engine/training.py\", line 1303, in run_step  **\n        outputs = model.train_step(data)\n    File \"/Users/skull/PycharmProjects/Face Recognition System/venv/lib/python3.9/site-packages/keras/src/engine/training.py\", line 1081, in train_step\n        loss = self.compute_loss(x, y, y_pred, sample_weight)\n    File \"/Users/skull/PycharmProjects/Face Recognition System/venv/lib/python3.9/site-packages/keras/src/engine/training.py\", line 1139, in compute_loss\n        return self.compiled_loss(\n    File \"/Users/skull/PycharmProjects/Face Recognition System/venv/lib/python3.9/site-packages/keras/src/engine/compile_utils.py\", line 265, in __call__\n        loss_value = loss_obj(y_t, y_p, sample_weight=sw)\n    File \"/Users/skull/PycharmProjects/Face Recognition System/venv/lib/python3.9/site-packages/keras/src/losses.py\", line 142, in __call__\n        losses = call_fn(y_true, y_pred)\n    File \"/Users/skull/PycharmProjects/Face Recognition System/venv/lib/python3.9/site-packages/keras/src/losses.py\", line 268, in call  **\n        return ag_fn(y_true, y_pred, **self._fn_kwargs)\n    File \"/Users/skull/PycharmProjects/Face Recognition System/venv/lib/python3.9/site-packages/keras/src/losses.py\", line 2432, in binary_crossentropy\n        backend.binary_crossentropy(y_true, y_pred, from_logits=from_logits),\n    File \"/Users/skull/PycharmProjects/Face Recognition System/venv/lib/python3.9/site-packages/keras/src/backend.py\", line 5809, in binary_crossentropy\n        return tf.nn.sigmoid_cross_entropy_with_logits(\n\n    ValueError: `logits` and `labels` must have the same shape, received ((None, 14) vs (None, 1)).\n"
     ]
    }
   ],
   "source": [
    "CNN.fit(train_set, epochs = 30)"
   ],
   "metadata": {
    "collapsed": false,
    "ExecuteTime": {
     "end_time": "2023-10-21T14:52:42.956297Z",
     "start_time": "2023-10-21T14:52:42.765178Z"
    }
   },
   "id": "8975d74181377a8"
  },
  {
   "cell_type": "code",
   "execution_count": 2,
   "outputs": [],
   "source": [
    "faces_embeddings = np.load(\"faces_embeddings_done_14classes.npz\")\n",
    "Y = faces_embeddings['arr_1']\n",
    "X = faces_embeddings[\"arr_0\"]"
   ],
   "metadata": {
    "collapsed": false
   },
   "id": "688214be5d2ea6de"
  },
  {
   "cell_type": "code",
   "execution_count": 3,
   "outputs": [],
   "source": [
    "from sklearn.model_selection import train_test_split\n",
    "\n",
    "X_train, X_test, Y_train, Y_test = train_test_split(X, Y, shuffle=True, random_state=17)"
   ],
   "metadata": {
    "collapsed": false
   },
   "id": "25faa02bd64436cf"
  },
  {
   "cell_type": "code",
   "execution_count": 13,
   "outputs": [],
   "source": [
    "import tensorflow as tf\n",
    "from tensorflow.keras.applications.vgg16 import VGG16\n",
    "\n",
    "# Load the VGG16 model\n",
    "model = VGG16(weights='imagenet', include_top=False)"
   ],
   "metadata": {
    "collapsed": false
   },
   "id": "9cbfc9ec42c33620"
  },
  {
   "cell_type": "code",
   "execution_count": 18,
   "outputs": [],
   "source": [
    "# Create a Sequential model\n",
    "model = tf.keras.Sequential()\n",
    "\n",
    "# Add the VGG16 model to the Sequential model\n",
    "model.add(VGG16(weights='imagenet', include_top=False))\n",
    "\n",
    "# Add a new fully connected layer to the model\n",
    "model.add(tf.keras.layers.Dense(14, activation='softmax'))\n",
    "\n",
    "# Compile the model\n",
    "model.compile(optimizer='adam', loss='categorical_crossentropy', metrics=['accuracy'])"
   ],
   "metadata": {
    "collapsed": false
   },
   "id": "41dd678fc4120ed7"
  },
  {
   "cell_type": "code",
   "execution_count": null,
   "outputs": [],
   "source": [
    "# Train the model on the training data\n",
    "model.fit(X_train, Y_train, epochs=10)"
   ],
   "metadata": {
    "collapsed": false
   },
   "id": "2ded47b01bbb0041"
  },
  {
   "cell_type": "code",
   "execution_count": null,
   "outputs": [],
   "source": [],
   "metadata": {
    "collapsed": false
   },
   "id": "2bc7f704790fc682"
  }
 ],
 "metadata": {
  "kernelspec": {
   "display_name": "Python 3",
   "language": "python",
   "name": "python3"
  },
  "language_info": {
   "codemirror_mode": {
    "name": "ipython",
    "version": 2
   },
   "file_extension": ".py",
   "mimetype": "text/x-python",
   "name": "python",
   "nbconvert_exporter": "python",
   "pygments_lexer": "ipython2",
   "version": "2.7.6"
  }
 },
 "nbformat": 4,
 "nbformat_minor": 5
}
