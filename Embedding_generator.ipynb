{
 "cells": [
  {
   "cell_type": "code",
   "execution_count": 4,
   "id": "initial_id",
   "metadata": {
    "collapsed": true,
    "ExecuteTime": {
     "end_time": "2023-10-21T16:16:13.464841Z",
     "start_time": "2023-10-21T16:16:13.437412Z"
    }
   },
   "outputs": [],
   "source": [
    "import cv2 as cv\n",
    "import os\n",
    "import numpy as np\n",
    "import tensorflow as tf\n",
    "from mtcnn.mtcnn import MTCNN\n",
    "import matplotlib.pyplot as plt\n",
    "os.environ['TF_CPP_MIN_LOG_LEVEL'] = '2'"
   ]
  },
  {
   "cell_type": "code",
   "execution_count": 5,
   "outputs": [],
   "source": [
    "class FACELOADING:\n",
    "    def __init__(self, directory):\n",
    "        self.directory = directory\n",
    "        self.target_size = (160,160)\n",
    "        self.X = []\n",
    "        self.Y = []\n",
    "        self.detector = MTCNN()\n",
    "    \n",
    "\n",
    "    def extract_face(self, filename):\n",
    "        img = cv.imread(filename)\n",
    "        img = cv.cvtColor(img, cv.COLOR_BGR2RGB)\n",
    "        x,y,w,h = self.detector.detect_faces(img)[0]['box']\n",
    "        x,y = abs(x), abs(y)\n",
    "        face = img[y:y+h, x:x+w]\n",
    "        face_arr = cv.resize(face, self.target_size)\n",
    "        return face_arr\n",
    "    \n",
    "\n",
    "    def load_faces(self, dir):\n",
    "        FACES = []\n",
    "        for im_name in os.listdir(dir):\n",
    "            try:\n",
    "                path = dir + im_name\n",
    "                single_face = self.extract_face(path)\n",
    "                FACES.append(single_face)\n",
    "            except Exception as e:\n",
    "                pass\n",
    "        return FACES\n",
    "\n",
    "    def load_classes(self):\n",
    "        for sub_dir in os.listdir(self.directory):\n",
    "            path = self.directory +'/'+ sub_dir+'/'\n",
    "            FACES = self.load_faces(path)\n",
    "            labels = [sub_dir for _ in range(len(FACES))]\n",
    "            print(f\"Loaded successfully: {len(labels)}\")\n",
    "            self.X.extend(FACES)\n",
    "            self.Y.extend(labels)\n",
    "        \n",
    "        return np.asarray(self.X), np.asarray(self.Y)\n",
    "\n",
    "\n",
    "    def plot_images(self):\n",
    "        plt.figure(figsize=(18,16))\n",
    "        for num,image in enumerate(self.X):\n",
    "            ncols = 3\n",
    "            nrows = len(self.Y)//ncols + 1\n",
    "            plt.subplot(nrows,ncols,num+1)\n",
    "            plt.imshow(image)\n",
    "            plt.axis('off')"
   ],
   "metadata": {
    "collapsed": false,
    "ExecuteTime": {
     "end_time": "2023-10-21T16:16:13.985271Z",
     "start_time": "2023-10-21T16:16:13.981604Z"
    }
   },
   "id": "f84f34a24dcd0e65"
  },
  {
   "cell_type": "code",
   "execution_count": null,
   "outputs": [],
   "source": [
    "faceloading = FACELOADING(\"dataset\")\n",
    "X, Y = faceloading.load_classes()"
   ],
   "metadata": {
    "collapsed": false
   },
   "id": "ef8b4d42f2a1f435"
  },
  {
   "cell_type": "code",
   "execution_count": null,
   "outputs": [],
   "source": [
    "from keras_facenet import FaceNet\n",
    "embedder = FaceNet()\n",
    "\n",
    "def get_embedding(face_img):\n",
    "    face_img = face_img.astype('float32') # 3D(160x160x3)\n",
    "    face_img = np.expand_dims(face_img, axis=0) \n",
    "    # 4D (Nonex160x160x3)\n",
    "    yhat= embedder.embeddings(face_img)\n",
    "    return yhat[0] # 512D image (1x1x512)"
   ],
   "metadata": {
    "collapsed": false
   },
   "id": "437a4d9cfda9639a"
  },
  {
   "cell_type": "code",
   "execution_count": null,
   "outputs": [],
   "source": [
    "EMBEDDED_X = []\n",
    "\n",
    "for img in X:\n",
    "    EMBEDDED_X.append(get_embedding(img))\n",
    "\n",
    "EMBEDDED_X = np.asarray(EMBEDDED_X)"
   ],
   "metadata": {
    "collapsed": false
   },
   "id": "586e043a286d0b72"
  },
  {
   "cell_type": "code",
   "execution_count": null,
   "outputs": [],
   "source": [
    "np.savez_compressed(\"faces_embeddings_done_14classes.npz\", EMBEDDED_X, Y)"
   ],
   "metadata": {
    "collapsed": false
   },
   "id": "a2479ac2776cb03b"
  }
 ],
 "metadata": {
  "kernelspec": {
   "display_name": "Python 3",
   "language": "python",
   "name": "python3"
  },
  "language_info": {
   "codemirror_mode": {
    "name": "ipython",
    "version": 2
   },
   "file_extension": ".py",
   "mimetype": "text/x-python",
   "name": "python",
   "nbconvert_exporter": "python",
   "pygments_lexer": "ipython2",
   "version": "2.7.6"
  }
 },
 "nbformat": 4,
 "nbformat_minor": 5
}
