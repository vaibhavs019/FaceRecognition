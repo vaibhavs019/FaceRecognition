{
 "cells": [
  {
   "cell_type": "code",
   "execution_count": 2,
   "id": "initial_id",
   "metadata": {
    "collapsed": true,
    "ExecuteTime": {
     "end_time": "2023-10-21T16:14:40.649530Z",
     "start_time": "2023-10-21T16:14:40.094893Z"
    }
   },
   "outputs": [],
   "source": [
    "import os\n",
    "import pickle\n",
    "import numpy as np\n",
    "from sklearn.linear_model import LogisticRegression\n",
    "from sklearn.preprocessing import LabelEncoder\n",
    "from sklearn.metrics import accuracy_score\n",
    "from sklearn.metrics import classification_report, confusion_matrix\n",
    "os.environ['TF_CPP_MIN_LOG_LEVEL'] = '2'\n",
    "from sklearn.model_selection import train_test_split"
   ]
  },
  {
   "cell_type": "code",
   "execution_count": 3,
   "outputs": [],
   "source": [
    "faces_embeddings = np.load(\"faces_embeddings_done_14classes.npz\")\n",
    "Y = faces_embeddings['arr_1']\n",
    "X = faces_embeddings[\"arr_0\"]"
   ],
   "metadata": {
    "collapsed": false,
    "ExecuteTime": {
     "end_time": "2023-10-21T16:14:40.675494Z",
     "start_time": "2023-10-21T16:14:40.651391Z"
    }
   },
   "id": "cfd24274f0c240f3"
  },
  {
   "cell_type": "code",
   "execution_count": 4,
   "outputs": [],
   "source": [
    "encoder = LabelEncoder()\n",
    "encoder.fit(Y)\n",
    "Y = encoder.transform(Y)"
   ],
   "metadata": {
    "collapsed": false,
    "ExecuteTime": {
     "end_time": "2023-10-21T16:14:41.240087Z",
     "start_time": "2023-10-21T16:14:41.234595Z"
    }
   },
   "id": "1f1a380726826afe"
  },
  {
   "cell_type": "code",
   "execution_count": 4,
   "outputs": [],
   "source": [
    "X_train, X_test, Y_train, Y_test = train_test_split(X, Y, shuffle=True, random_state=17)"
   ],
   "metadata": {
    "collapsed": false,
    "ExecuteTime": {
     "end_time": "2023-10-21T14:57:32.430187Z",
     "start_time": "2023-10-21T14:57:32.418511Z"
    }
   },
   "id": "2cfe32127d1e1c4c"
  },
  {
   "cell_type": "code",
   "execution_count": 5,
   "outputs": [
    {
     "data": {
      "text/plain": "LogisticRegression()",
      "text/html": "<style>#sk-container-id-1 {color: black;}#sk-container-id-1 pre{padding: 0;}#sk-container-id-1 div.sk-toggleable {background-color: white;}#sk-container-id-1 label.sk-toggleable__label {cursor: pointer;display: block;width: 100%;margin-bottom: 0;padding: 0.3em;box-sizing: border-box;text-align: center;}#sk-container-id-1 label.sk-toggleable__label-arrow:before {content: \"▸\";float: left;margin-right: 0.25em;color: #696969;}#sk-container-id-1 label.sk-toggleable__label-arrow:hover:before {color: black;}#sk-container-id-1 div.sk-estimator:hover label.sk-toggleable__label-arrow:before {color: black;}#sk-container-id-1 div.sk-toggleable__content {max-height: 0;max-width: 0;overflow: hidden;text-align: left;background-color: #f0f8ff;}#sk-container-id-1 div.sk-toggleable__content pre {margin: 0.2em;color: black;border-radius: 0.25em;background-color: #f0f8ff;}#sk-container-id-1 input.sk-toggleable__control:checked~div.sk-toggleable__content {max-height: 200px;max-width: 100%;overflow: auto;}#sk-container-id-1 input.sk-toggleable__control:checked~label.sk-toggleable__label-arrow:before {content: \"▾\";}#sk-container-id-1 div.sk-estimator input.sk-toggleable__control:checked~label.sk-toggleable__label {background-color: #d4ebff;}#sk-container-id-1 div.sk-label input.sk-toggleable__control:checked~label.sk-toggleable__label {background-color: #d4ebff;}#sk-container-id-1 input.sk-hidden--visually {border: 0;clip: rect(1px 1px 1px 1px);clip: rect(1px, 1px, 1px, 1px);height: 1px;margin: -1px;overflow: hidden;padding: 0;position: absolute;width: 1px;}#sk-container-id-1 div.sk-estimator {font-family: monospace;background-color: #f0f8ff;border: 1px dotted black;border-radius: 0.25em;box-sizing: border-box;margin-bottom: 0.5em;}#sk-container-id-1 div.sk-estimator:hover {background-color: #d4ebff;}#sk-container-id-1 div.sk-parallel-item::after {content: \"\";width: 100%;border-bottom: 1px solid gray;flex-grow: 1;}#sk-container-id-1 div.sk-label:hover label.sk-toggleable__label {background-color: #d4ebff;}#sk-container-id-1 div.sk-serial::before {content: \"\";position: absolute;border-left: 1px solid gray;box-sizing: border-box;top: 0;bottom: 0;left: 50%;z-index: 0;}#sk-container-id-1 div.sk-serial {display: flex;flex-direction: column;align-items: center;background-color: white;padding-right: 0.2em;padding-left: 0.2em;position: relative;}#sk-container-id-1 div.sk-item {position: relative;z-index: 1;}#sk-container-id-1 div.sk-parallel {display: flex;align-items: stretch;justify-content: center;background-color: white;position: relative;}#sk-container-id-1 div.sk-item::before, #sk-container-id-1 div.sk-parallel-item::before {content: \"\";position: absolute;border-left: 1px solid gray;box-sizing: border-box;top: 0;bottom: 0;left: 50%;z-index: -1;}#sk-container-id-1 div.sk-parallel-item {display: flex;flex-direction: column;z-index: 1;position: relative;background-color: white;}#sk-container-id-1 div.sk-parallel-item:first-child::after {align-self: flex-end;width: 50%;}#sk-container-id-1 div.sk-parallel-item:last-child::after {align-self: flex-start;width: 50%;}#sk-container-id-1 div.sk-parallel-item:only-child::after {width: 0;}#sk-container-id-1 div.sk-dashed-wrapped {border: 1px dashed gray;margin: 0 0.4em 0.5em 0.4em;box-sizing: border-box;padding-bottom: 0.4em;background-color: white;}#sk-container-id-1 div.sk-label label {font-family: monospace;font-weight: bold;display: inline-block;line-height: 1.2em;}#sk-container-id-1 div.sk-label-container {text-align: center;}#sk-container-id-1 div.sk-container {/* jupyter's `normalize.less` sets `[hidden] { display: none; }` but bootstrap.min.css set `[hidden] { display: none !important; }` so we also need the `!important` here to be able to override the default hidden behavior on the sphinx rendered scikit-learn.org. See: https://github.com/scikit-learn/scikit-learn/issues/21755 */display: inline-block !important;position: relative;}#sk-container-id-1 div.sk-text-repr-fallback {display: none;}</style><div id=\"sk-container-id-1\" class=\"sk-top-container\"><div class=\"sk-text-repr-fallback\"><pre>LogisticRegression()</pre><b>In a Jupyter environment, please rerun this cell to show the HTML representation or trust the notebook. <br />On GitHub, the HTML representation is unable to render, please try loading this page with nbviewer.org.</b></div><div class=\"sk-container\" hidden><div class=\"sk-item\"><div class=\"sk-estimator sk-toggleable\"><input class=\"sk-toggleable__control sk-hidden--visually\" id=\"sk-estimator-id-1\" type=\"checkbox\" checked><label for=\"sk-estimator-id-1\" class=\"sk-toggleable__label sk-toggleable__label-arrow\">LogisticRegression</label><div class=\"sk-toggleable__content\"><pre>LogisticRegression()</pre></div></div></div></div></div>"
     },
     "execution_count": 5,
     "metadata": {},
     "output_type": "execute_result"
    }
   ],
   "source": [
    "model = LogisticRegression()\n",
    "model.fit(X_train, Y_train)"
   ],
   "metadata": {
    "collapsed": false,
    "ExecuteTime": {
     "end_time": "2023-10-21T14:57:33.721647Z",
     "start_time": "2023-10-21T14:57:33.373913Z"
    }
   },
   "id": "8292c267537f2cd1"
  },
  {
   "cell_type": "code",
   "execution_count": 6,
   "outputs": [],
   "source": [
    "ypreds_test = model.predict(X_test)"
   ],
   "metadata": {
    "collapsed": false,
    "ExecuteTime": {
     "end_time": "2023-10-21T14:57:36.354273Z",
     "start_time": "2023-10-21T14:57:36.316920Z"
    }
   },
   "id": "69792042dd6eb0d"
  },
  {
   "cell_type": "code",
   "execution_count": 9,
   "outputs": [
    {
     "data": {
      "text/plain": "0.9891826923076923"
     },
     "execution_count": 9,
     "metadata": {},
     "output_type": "execute_result"
    }
   ],
   "source": [
    "accuracy_score(Y_test, ypreds_test)"
   ],
   "metadata": {
    "collapsed": false,
    "ExecuteTime": {
     "end_time": "2023-10-21T14:58:51.221924Z",
     "start_time": "2023-10-21T14:58:51.213174Z"
    }
   },
   "id": "c90370bae7de52f2"
  },
  {
   "cell_type": "code",
   "execution_count": 7,
   "outputs": [
    {
     "name": "stdout",
     "output_type": "stream",
     "text": [
      "              precision    recall  f1-score   support\n",
      "\n",
      "           0       0.98      0.98      0.98        64\n",
      "           1       0.95      1.00      0.97        53\n",
      "           2       0.98      0.95      0.96        58\n",
      "           3       1.00      1.00      1.00        64\n",
      "           4       1.00      0.99      0.99        69\n",
      "           5       1.00      1.00      1.00        43\n",
      "           6       1.00      0.98      0.99        61\n",
      "           7       0.96      0.95      0.95        55\n",
      "           8       1.00      1.00      1.00        64\n",
      "           9       0.98      1.00      0.99        63\n",
      "          10       1.00      1.00      1.00        59\n",
      "          11       0.98      1.00      0.99        61\n",
      "          12       1.00      1.00      1.00        50\n",
      "          13       1.00      1.00      1.00        68\n",
      "\n",
      "    accuracy                           0.99       832\n",
      "   macro avg       0.99      0.99      0.99       832\n",
      "weighted avg       0.99      0.99      0.99       832\n"
     ]
    }
   ],
   "source": [
    "print(classification_report(Y_test, ypreds_test))"
   ],
   "metadata": {
    "collapsed": false,
    "ExecuteTime": {
     "end_time": "2023-10-21T14:57:59.173703Z",
     "start_time": "2023-10-21T14:57:59.162866Z"
    }
   },
   "id": "4001bef16c59de08"
  },
  {
   "cell_type": "code",
   "execution_count": 8,
   "outputs": [
    {
     "name": "stdout",
     "output_type": "stream",
     "text": [
      "[[63  0  0  0  0  0  0  1  0  0  0  0  0  0]\n",
      " [ 0 53  0  0  0  0  0  0  0  0  0  0  0  0]\n",
      " [ 0  1 55  0  0  0  0  0  0  1  0  1  0  0]\n",
      " [ 0  0  0 64  0  0  0  0  0  0  0  0  0  0]\n",
      " [ 0  0  0  0 68  0  0  1  0  0  0  0  0  0]\n",
      " [ 0  0  0  0  0 43  0  0  0  0  0  0  0  0]\n",
      " [ 1  0  0  0  0  0 60  0  0  0  0  0  0  0]\n",
      " [ 0  2  1  0  0  0  0 52  0  0  0  0  0  0]\n",
      " [ 0  0  0  0  0  0  0  0 64  0  0  0  0  0]\n",
      " [ 0  0  0  0  0  0  0  0  0 63  0  0  0  0]\n",
      " [ 0  0  0  0  0  0  0  0  0  0 59  0  0  0]\n",
      " [ 0  0  0  0  0  0  0  0  0  0  0 61  0  0]\n",
      " [ 0  0  0  0  0  0  0  0  0  0  0  0 50  0]\n",
      " [ 0  0  0  0  0  0  0  0  0  0  0  0  0 68]]\n"
     ]
    }
   ],
   "source": [
    "print(confusion_matrix(Y_test, ypreds_test))"
   ],
   "metadata": {
    "collapsed": false,
    "ExecuteTime": {
     "end_time": "2023-10-21T14:58:16.660005Z",
     "start_time": "2023-10-21T14:58:16.642106Z"
    }
   },
   "id": "415bad74088795fa"
  },
  {
   "cell_type": "code",
   "execution_count": 11,
   "outputs": [],
   "source": [
    "#save the model\n",
    "with open('logistic_regression_160x160.pkl','wb') as f:\n",
    "    pickle.dump(model,f)"
   ],
   "metadata": {
    "collapsed": false,
    "ExecuteTime": {
     "end_time": "2023-10-21T15:00:09.439280Z",
     "start_time": "2023-10-21T15:00:09.426551Z"
    }
   },
   "id": "4a128aedfb7f1721"
  },
  {
   "cell_type": "code",
   "execution_count": null,
   "outputs": [],
   "source": [],
   "metadata": {
    "collapsed": false
   },
   "id": "92617d4d324991fc"
  }
 ],
 "metadata": {
  "kernelspec": {
   "display_name": "Python 3",
   "language": "python",
   "name": "python3"
  },
  "language_info": {
   "codemirror_mode": {
    "name": "ipython",
    "version": 2
   },
   "file_extension": ".py",
   "mimetype": "text/x-python",
   "name": "python",
   "nbconvert_exporter": "python",
   "pygments_lexer": "ipython2",
   "version": "2.7.6"
  }
 },
 "nbformat": 4,
 "nbformat_minor": 5
}
