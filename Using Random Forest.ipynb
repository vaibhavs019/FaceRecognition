{
 "cells": [
  {
   "cell_type": "code",
   "execution_count": 12,
   "outputs": [],
   "source": [
    "import os\n",
    "import pickle\n",
    "import numpy as np\n",
    "from sklearn.ensemble import RandomForestClassifier, RandomTreesEmbedding\n",
    "from sklearn.preprocessing import LabelEncoder\n",
    "from sklearn.metrics import accuracy_score\n",
    "from sklearn.metrics import classification_report, confusion_matrix\n",
    "os.environ['TF_CPP_MIN_LOG_LEVEL'] = '2'\n",
    "from sklearn.model_selection import train_test_split"
   ],
   "metadata": {
    "collapsed": false,
    "ExecuteTime": {
     "end_time": "2023-10-23T14:00:43.532869Z",
     "start_time": "2023-10-23T14:00:43.532481Z"
    }
   },
   "id": "b8a54bf12d34b19"
  },
  {
   "cell_type": "code",
   "execution_count": 13,
   "outputs": [],
   "source": [
    "faces_embeddings = np.load(\"faces_embeddings_done_14classes.npz\")\n",
    "Y = faces_embeddings['arr_1']\n",
    "X = faces_embeddings[\"arr_0\"]"
   ],
   "metadata": {
    "collapsed": false,
    "ExecuteTime": {
     "end_time": "2023-10-23T14:00:43.579511Z",
     "start_time": "2023-10-23T14:00:43.537474Z"
    }
   },
   "id": "f6a4c166ff635d92"
  },
  {
   "cell_type": "code",
   "execution_count": 14,
   "outputs": [],
   "source": [
    "encoder = LabelEncoder()\n",
    "encoder.fit(Y)\n",
    "Y = encoder.transform(Y)"
   ],
   "metadata": {
    "collapsed": false,
    "ExecuteTime": {
     "end_time": "2023-10-23T14:00:43.593436Z",
     "start_time": "2023-10-23T14:00:43.587246Z"
    }
   },
   "id": "5da7276c69fe96ac"
  },
  {
   "cell_type": "code",
   "execution_count": 15,
   "outputs": [],
   "source": [
    "X_train, X_test, Y_train, Y_test = train_test_split(X, Y, shuffle=True, random_state=17)"
   ],
   "metadata": {
    "collapsed": false,
    "ExecuteTime": {
     "end_time": "2023-10-23T14:00:43.607200Z",
     "start_time": "2023-10-23T14:00:43.600096Z"
    }
   },
   "id": "26d2307573c0fb05"
  },
  {
   "cell_type": "code",
   "execution_count": 16,
   "outputs": [
    {
     "data": {
      "text/plain": "RandomForestClassifier()",
      "text/html": "<style>#sk-container-id-2 {color: black;}#sk-container-id-2 pre{padding: 0;}#sk-container-id-2 div.sk-toggleable {background-color: white;}#sk-container-id-2 label.sk-toggleable__label {cursor: pointer;display: block;width: 100%;margin-bottom: 0;padding: 0.3em;box-sizing: border-box;text-align: center;}#sk-container-id-2 label.sk-toggleable__label-arrow:before {content: \"▸\";float: left;margin-right: 0.25em;color: #696969;}#sk-container-id-2 label.sk-toggleable__label-arrow:hover:before {color: black;}#sk-container-id-2 div.sk-estimator:hover label.sk-toggleable__label-arrow:before {color: black;}#sk-container-id-2 div.sk-toggleable__content {max-height: 0;max-width: 0;overflow: hidden;text-align: left;background-color: #f0f8ff;}#sk-container-id-2 div.sk-toggleable__content pre {margin: 0.2em;color: black;border-radius: 0.25em;background-color: #f0f8ff;}#sk-container-id-2 input.sk-toggleable__control:checked~div.sk-toggleable__content {max-height: 200px;max-width: 100%;overflow: auto;}#sk-container-id-2 input.sk-toggleable__control:checked~label.sk-toggleable__label-arrow:before {content: \"▾\";}#sk-container-id-2 div.sk-estimator input.sk-toggleable__control:checked~label.sk-toggleable__label {background-color: #d4ebff;}#sk-container-id-2 div.sk-label input.sk-toggleable__control:checked~label.sk-toggleable__label {background-color: #d4ebff;}#sk-container-id-2 input.sk-hidden--visually {border: 0;clip: rect(1px 1px 1px 1px);clip: rect(1px, 1px, 1px, 1px);height: 1px;margin: -1px;overflow: hidden;padding: 0;position: absolute;width: 1px;}#sk-container-id-2 div.sk-estimator {font-family: monospace;background-color: #f0f8ff;border: 1px dotted black;border-radius: 0.25em;box-sizing: border-box;margin-bottom: 0.5em;}#sk-container-id-2 div.sk-estimator:hover {background-color: #d4ebff;}#sk-container-id-2 div.sk-parallel-item::after {content: \"\";width: 100%;border-bottom: 1px solid gray;flex-grow: 1;}#sk-container-id-2 div.sk-label:hover label.sk-toggleable__label {background-color: #d4ebff;}#sk-container-id-2 div.sk-serial::before {content: \"\";position: absolute;border-left: 1px solid gray;box-sizing: border-box;top: 0;bottom: 0;left: 50%;z-index: 0;}#sk-container-id-2 div.sk-serial {display: flex;flex-direction: column;align-items: center;background-color: white;padding-right: 0.2em;padding-left: 0.2em;position: relative;}#sk-container-id-2 div.sk-item {position: relative;z-index: 1;}#sk-container-id-2 div.sk-parallel {display: flex;align-items: stretch;justify-content: center;background-color: white;position: relative;}#sk-container-id-2 div.sk-item::before, #sk-container-id-2 div.sk-parallel-item::before {content: \"\";position: absolute;border-left: 1px solid gray;box-sizing: border-box;top: 0;bottom: 0;left: 50%;z-index: -1;}#sk-container-id-2 div.sk-parallel-item {display: flex;flex-direction: column;z-index: 1;position: relative;background-color: white;}#sk-container-id-2 div.sk-parallel-item:first-child::after {align-self: flex-end;width: 50%;}#sk-container-id-2 div.sk-parallel-item:last-child::after {align-self: flex-start;width: 50%;}#sk-container-id-2 div.sk-parallel-item:only-child::after {width: 0;}#sk-container-id-2 div.sk-dashed-wrapped {border: 1px dashed gray;margin: 0 0.4em 0.5em 0.4em;box-sizing: border-box;padding-bottom: 0.4em;background-color: white;}#sk-container-id-2 div.sk-label label {font-family: monospace;font-weight: bold;display: inline-block;line-height: 1.2em;}#sk-container-id-2 div.sk-label-container {text-align: center;}#sk-container-id-2 div.sk-container {/* jupyter's `normalize.less` sets `[hidden] { display: none; }` but bootstrap.min.css set `[hidden] { display: none !important; }` so we also need the `!important` here to be able to override the default hidden behavior on the sphinx rendered scikit-learn.org. See: https://github.com/scikit-learn/scikit-learn/issues/21755 */display: inline-block !important;position: relative;}#sk-container-id-2 div.sk-text-repr-fallback {display: none;}</style><div id=\"sk-container-id-2\" class=\"sk-top-container\"><div class=\"sk-text-repr-fallback\"><pre>RandomForestClassifier()</pre><b>In a Jupyter environment, please rerun this cell to show the HTML representation or trust the notebook. <br />On GitHub, the HTML representation is unable to render, please try loading this page with nbviewer.org.</b></div><div class=\"sk-container\" hidden><div class=\"sk-item\"><div class=\"sk-estimator sk-toggleable\"><input class=\"sk-toggleable__control sk-hidden--visually\" id=\"sk-estimator-id-2\" type=\"checkbox\" checked><label for=\"sk-estimator-id-2\" class=\"sk-toggleable__label sk-toggleable__label-arrow\">RandomForestClassifier</label><div class=\"sk-toggleable__content\"><pre>RandomForestClassifier()</pre></div></div></div></div></div>"
     },
     "execution_count": 16,
     "metadata": {},
     "output_type": "execute_result"
    }
   ],
   "source": [
    "model = RandomForestClassifier()\n",
    "model.fit(X_train, Y_train)"
   ],
   "metadata": {
    "collapsed": false,
    "ExecuteTime": {
     "end_time": "2023-10-23T14:00:45.843715Z",
     "start_time": "2023-10-23T14:00:43.611306Z"
    }
   },
   "id": "f77db293ae41cfdc"
  },
  {
   "cell_type": "code",
   "execution_count": 17,
   "outputs": [],
   "source": [
    "ypreds_test = model.predict(X_test)"
   ],
   "metadata": {
    "collapsed": false,
    "ExecuteTime": {
     "end_time": "2023-10-23T14:00:45.862211Z",
     "start_time": "2023-10-23T14:00:45.844077Z"
    }
   },
   "id": "9853b1c5a3e5b78"
  },
  {
   "cell_type": "code",
   "execution_count": 18,
   "outputs": [
    {
     "data": {
      "text/plain": "0.9975961538461539"
     },
     "execution_count": 18,
     "metadata": {},
     "output_type": "execute_result"
    }
   ],
   "source": [
    "accuracy_score(Y_test, ypreds_test)"
   ],
   "metadata": {
    "collapsed": false,
    "ExecuteTime": {
     "end_time": "2023-10-23T14:00:45.862583Z",
     "start_time": "2023-10-23T14:00:45.857316Z"
    }
   },
   "id": "454d0fa58936270d"
  },
  {
   "cell_type": "code",
   "execution_count": 19,
   "outputs": [],
   "source": [
    "classes = [\"Aarin\", \"Adithya\", \"Aditya\", \"Avanish\", \"Dev\", \"Dhruv Arora\", \"Parth Waman\", \"Shimpali\", \"Shourya\", \"Siddharth\", \"Tanuj\", \"Tarush\", \"Utkarsh\", \"Vaibhav\"]"
   ],
   "metadata": {
    "collapsed": false,
    "ExecuteTime": {
     "end_time": "2023-10-23T14:00:45.871844Z",
     "start_time": "2023-10-23T14:00:45.861547Z"
    }
   },
   "id": "adbfac919f0e51d1"
  },
  {
   "cell_type": "code",
   "execution_count": 23,
   "outputs": [
    {
     "name": "stdout",
     "output_type": "stream",
     "text": [
      "              precision    recall  f1-score   support\n",
      "\n",
      "       Aarin       0.97      1.00      0.98        64\n",
      "     Adithya       1.00      1.00      1.00        53\n",
      "      Aditya       1.00      1.00      1.00        58\n",
      "     Avanish       1.00      1.00      1.00        64\n",
      "         Dev       1.00      1.00      1.00        69\n",
      " Dhruv Arora       1.00      1.00      1.00        43\n",
      " Parth Waman       1.00      0.98      0.99        61\n",
      "    Shimpali       1.00      0.98      0.99        55\n",
      "     Shourya       1.00      1.00      1.00        64\n",
      "   Siddharth       1.00      1.00      1.00        63\n",
      "       Tanuj       1.00      1.00      1.00        59\n",
      "      Tarush       1.00      1.00      1.00        61\n",
      "     Utkarsh       1.00      1.00      1.00        50\n",
      "     Vaibhav       1.00      1.00      1.00        68\n",
      "\n",
      "    accuracy                           1.00       832\n",
      "   macro avg       1.00      1.00      1.00       832\n",
      "weighted avg       1.00      1.00      1.00       832\n"
     ]
    }
   ],
   "source": [
    "print(classification_report(Y_test, ypreds_test, target_names=classes))"
   ],
   "metadata": {
    "collapsed": false,
    "ExecuteTime": {
     "end_time": "2023-10-23T14:00:52.907965Z",
     "start_time": "2023-10-23T14:00:52.901900Z"
    }
   },
   "id": "99d5ffc2660cc516"
  },
  {
   "cell_type": "code",
   "execution_count": 24,
   "outputs": [
    {
     "name": "stdout",
     "output_type": "stream",
     "text": [
      "[[64  0  0  0  0  0  0  0  0  0  0  0  0  0]\n",
      " [ 0 53  0  0  0  0  0  0  0  0  0  0  0  0]\n",
      " [ 0  0 58  0  0  0  0  0  0  0  0  0  0  0]\n",
      " [ 0  0  0 64  0  0  0  0  0  0  0  0  0  0]\n",
      " [ 0  0  0  0 69  0  0  0  0  0  0  0  0  0]\n",
      " [ 0  0  0  0  0 43  0  0  0  0  0  0  0  0]\n",
      " [ 1  0  0  0  0  0 60  0  0  0  0  0  0  0]\n",
      " [ 1  0  0  0  0  0  0 54  0  0  0  0  0  0]\n",
      " [ 0  0  0  0  0  0  0  0 64  0  0  0  0  0]\n",
      " [ 0  0  0  0  0  0  0  0  0 63  0  0  0  0]\n",
      " [ 0  0  0  0  0  0  0  0  0  0 59  0  0  0]\n",
      " [ 0  0  0  0  0  0  0  0  0  0  0 61  0  0]\n",
      " [ 0  0  0  0  0  0  0  0  0  0  0  0 50  0]\n",
      " [ 0  0  0  0  0  0  0  0  0  0  0  0  0 68]]\n"
     ]
    }
   ],
   "source": [
    "print(confusion_matrix(Y_test, ypreds_test))"
   ],
   "metadata": {
    "collapsed": false,
    "ExecuteTime": {
     "end_time": "2023-10-23T14:03:32.735724Z",
     "start_time": "2023-10-23T14:03:32.730471Z"
    }
   },
   "id": "539c554ce7440098"
  },
  {
   "cell_type": "code",
   "execution_count": 22,
   "outputs": [],
   "source": [
    "#save the model\n",
    "with open('random_forest_160x160.pkl','wb') as f:\n",
    "    pickle.dump(model,f)"
   ],
   "metadata": {
    "collapsed": false,
    "ExecuteTime": {
     "end_time": "2023-10-23T14:00:45.888625Z",
     "start_time": "2023-10-23T14:00:45.878576Z"
    }
   },
   "id": "c26b94af8b5d72d"
  },
  {
   "cell_type": "code",
   "execution_count": 22,
   "outputs": [],
   "source": [],
   "metadata": {
    "collapsed": false,
    "ExecuteTime": {
     "end_time": "2023-10-23T14:00:45.890227Z",
     "start_time": "2023-10-23T14:00:45.887775Z"
    }
   },
   "id": "558a32804b2ea4e1"
  }
 ],
 "metadata": {
  "kernelspec": {
   "display_name": "Python 3",
   "language": "python",
   "name": "python3"
  },
  "language_info": {
   "codemirror_mode": {
    "name": "ipython",
    "version": 2
   },
   "file_extension": ".py",
   "mimetype": "text/x-python",
   "name": "python",
   "nbconvert_exporter": "python",
   "pygments_lexer": "ipython2",
   "version": "2.7.6"
  }
 },
 "nbformat": 4,
 "nbformat_minor": 5
}
